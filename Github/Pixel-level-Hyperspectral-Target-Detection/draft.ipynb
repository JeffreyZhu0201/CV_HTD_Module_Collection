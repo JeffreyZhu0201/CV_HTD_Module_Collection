{
 "cells": [
  {
   "cell_type": "code",
   "execution_count": 2,
   "id": "2e5246f3",
   "metadata": {},
   "outputs": [
    {
     "name": "stdout",
     "output_type": "stream",
     "text": [
      "dict_keys(['__header__', '__version__', '__globals__', 'img', 'groundtruth'])\n",
      "(224, 22500)\n"
     ]
    },
    {
     "ename": "NameError",
     "evalue": "name 'rgb' is not defined",
     "output_type": "error",
     "traceback": [
      "\u001b[1;31m---------------------------------------------------------------------------\u001b[0m",
      "\u001b[1;31mNameError\u001b[0m                                 Traceback (most recent call last)",
      "Cell \u001b[1;32mIn[2], line 11\u001b[0m\n\u001b[0;32m      7\u001b[0m \u001b[38;5;66;03m# print(mat_data['img'].reshape((205,100,100)).shape)\u001b[39;00m\n\u001b[0;32m      8\u001b[0m \u001b[38;5;66;03m# img = mat_data['img'] = np.reshape(mat_data['img'], (205, 100, 100))\u001b[39;00m\n\u001b[0;32m      9\u001b[0m \u001b[38;5;66;03m# rgb = np.stack([img[180], img[190], img[200]], axis=-1)\u001b[39;00m\n\u001b[0;32m     10\u001b[0m plt\u001b[38;5;241m.\u001b[39mfigure(figsize\u001b[38;5;241m=\u001b[39m(\u001b[38;5;241m10\u001b[39m, \u001b[38;5;241m10\u001b[39m))\n\u001b[1;32m---> 11\u001b[0m plt\u001b[38;5;241m.\u001b[39mimshow(rgb)\n\u001b[0;32m     12\u001b[0m \u001b[38;5;66;03m# plt.imshow(mat_data['groundtruth'], cmap='gray')\u001b[39;00m\n\u001b[0;32m     13\u001b[0m plt\u001b[38;5;241m.\u001b[39mtitle(\u001b[38;5;124m'\u001b[39m\u001b[38;5;124mImage from airport1.mat\u001b[39m\u001b[38;5;124m'\u001b[39m)\n",
      "\u001b[1;31mNameError\u001b[0m: name 'rgb' is not defined"
     ]
    },
    {
     "data": {
      "text/plain": [
       "<Figure size 1000x1000 with 0 Axes>"
      ]
     },
     "metadata": {},
     "output_type": "display_data"
    }
   ],
   "source": [
    "import scipy.io as sio\n",
    "import matplotlib.pyplot as plt\n",
    "import numpy as np\n",
    "mat_data = sio.loadmat('./data/MT-ABU-dataset/A1.mat')\n",
    "print(mat_data.keys())\n",
    "print(mat_data['img'].shape)\n",
    "# print(mat_data['img'].reshape((205,100,100)).shape)\n",
    "# img = mat_data['img'] = np.reshape(mat_data['img'], (205, 100, 100))\n",
    "# rgb = np.stack([img[180], img[190], img[200]], axis=-1)\n",
    "plt.figure(figsize=(10, 10))\n",
    "plt.imshow(rgb)\n",
    "# plt.imshow(mat_data['groundtruth'], cmap='gray')\n",
    "plt.title('Image from airport1.mat')\n",
    "plt.axis('off')\n",
    "plt.show()"
   ]
  }
 ],
 "metadata": {
  "kernelspec": {
   "display_name": "base",
   "language": "python",
   "name": "python3"
  },
  "language_info": {
   "codemirror_mode": {
    "name": "ipython",
    "version": 3
   },
   "file_extension": ".py",
   "mimetype": "text/x-python",
   "name": "python",
   "nbconvert_exporter": "python",
   "pygments_lexer": "ipython3",
   "version": "3.12.7"
  }
 },
 "nbformat": 4,
 "nbformat_minor": 5
}
